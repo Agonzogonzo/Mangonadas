{
 "cells": [
  {
   "cell_type": "code",
   "execution_count": null,
   "metadata": {},
   "outputs": [],
   "source": [
    "#Import packages\n",
    "import geopandas as gpd\n",
    "import pandas as pd\n",
    "import plotly.express as px\n",
    "from sodapy import Socrata\n",
    "import folium\n",
    "import matplotlib\n",
    "import matplotlib.pyplot as plt\n",
    "import geopandas as gpd\n"
   ]
  },
  {
   "cell_type": "markdown",
   "metadata": {},
   "source": [
    "# Import dataframe"
   ]
  },
  {
   "cell_type": "code",
   "execution_count": null,
   "metadata": {},
   "outputs": [],
   "source": [
    "#Import df including tracts, ejsm, crime \n",
    "dftec=gpd.read_file('dftec.geojson')"
   ]
  },
  {
   "cell_type": "code",
   "execution_count": null,
   "metadata": {},
   "outputs": [],
   "source": [
    "#general plot\n",
    "dftec.plot()"
   ]
  },
  {
   "cell_type": "code",
   "execution_count": null,
   "metadata": {},
   "outputs": [],
   "source": [
    "dftec.head()"
   ]
  },
  {
   "cell_type": "code",
   "execution_count": null,
   "metadata": {},
   "outputs": [],
   "source": [
    "#shape of data includes points for ejsm scores corresponding with FIPS codes\n",
    "#data does not include crime data points that do not correspond with the ejsm/tracts data\n",
    "dftec.shape"
   ]
  },
  {
   "cell_type": "code",
   "execution_count": null,
   "metadata": {},
   "outputs": [],
   "source": [
    "#count of elements along FIPS axis\n",
    "dftec_count=dftec.groupby(\"FIPS\").size().reset_index()"
   ]
  },
  {
   "cell_type": "code",
   "execution_count": null,
   "metadata": {},
   "outputs": [],
   "source": [
    "dftec_count.head()"
   ]
  },
  {
   "cell_type": "code",
   "execution_count": null,
   "metadata": {},
   "outputs": [],
   "source": [
    "dftec.info()"
   ]
  },
  {
   "cell_type": "code",
   "execution_count": null,
   "metadata": {},
   "outputs": [],
   "source": [
    "dftec['CIscore'].describe()"
   ]
  },
  {
   "cell_type": "code",
   "execution_count": null,
   "metadata": {},
   "outputs": [],
   "source": [
    "# There are more data points in the EJSM data to correspond with the new pull?\n",
    "#could it be that the EJSM score correspoding with the crime is increased because they have been matched \n",
    "#NEED TO FIGURE OUT WHAT CUT OF THE DATA WE ARE LOOKING AT- Plot histogram for cumulative impact score\n",
    "dftec['CIscore'].plot.hist(bins=50),\n",
    "plt.xlabel('Cumulative Impact Scores')\n",
    "plt.ylabel('Frequency'),\n",
    "plt.savefig('CIscore.png')"
   ]
  },
  {
   "cell_type": "code",
   "execution_count": null,
   "metadata": {},
   "outputs": [],
   "source": [
    "#need to figure out distribution\n",
    "\n",
    "dftec['HazScore'].plot.hist(bins=50)\n",
    "plt.xlabel('Proximity to Hazards')\n",
    "plt.ylabel('Frequecy'),\n",
    "plt.savefig('HazScore_bar.png')"
   ]
  },
  {
   "cell_type": "code",
   "execution_count": null,
   "metadata": {},
   "outputs": [],
   "source": [
    "#data sorted by CIScore\n",
    "dftec_sorted= dftec.sort_values(by='CIscore',ascending = False)\n",
    "dftec_sorted[['FIPS','CIscore', 'HazScore']].head(10)"
   ]
  },
  {
   "cell_type": "code",
   "execution_count": null,
   "metadata": {},
   "outputs": [],
   "source": [
    "#point data- could be missing the mutipolygon data for base\n",
    "dftec.plot(figsize=(24,20),\n",
    "                 column='HazScore',\n",
    "                 legend=True, \n",
    "                 scheme='equal_interval')"
   ]
  },
  {
   "cell_type": "code",
   "execution_count": null,
   "metadata": {},
   "outputs": [],
   "source": [
    "#jumping ahead to chloropleth map - could import tracts data \n",
    "#need to import tracts data for basemap"
   ]
  },
  {
   "cell_type": "markdown",
   "metadata": {},
   "source": [
    "# Import tracts_ejsm data"
   ]
  },
  {
   "cell_type": "code",
   "execution_count": null,
   "metadata": {},
   "outputs": [],
   "source": [
    "#read ejsm_tracts\n",
    "tracts_ejsm=gpd.read_file('tracts_ejsm.geojson')"
   ]
  },
  {
   "cell_type": "code",
   "execution_count": null,
   "metadata": {},
   "outputs": [],
   "source": [
    "#need to combine geometry \n",
    "tracts_ejsm.head()"
   ]
  },
  {
   "cell_type": "code",
   "execution_count": null,
   "metadata": {},
   "outputs": [],
   "source": [
    "#Isolate FIPS and Multipolygon \n",
    "tracts_ejsm_subset = tracts_ejsm[['FIPS','geometry']]\n",
    "tracts_ejsm_subset.head()\n",
    "tracts_ejsm_subset.info()"
   ]
  },
  {
   "cell_type": "code",
   "execution_count": null,
   "metadata": {},
   "outputs": [],
   "source": [
    "#checking dftec for values\n",
    "dftec.info()"
   ]
  },
  {
   "cell_type": "code",
   "execution_count": null,
   "metadata": {},
   "outputs": [],
   "source": [
    "#reset index to only include fips and geometry should I .reset_index()?\n",
    "tracts_ejsm_subset=tracts_ejsm[['FIPS','geometry']]\n",
    "tracts_ejsm_subset.info()"
   ]
  },
  {
   "cell_type": "code",
   "execution_count": null,
   "metadata": {},
   "outputs": [],
   "source": [
    "#look at head for isolation\n",
    "tracts_ejsm_subset.head()"
   ]
  },
  {
   "cell_type": "code",
   "execution_count": null,
   "metadata": {},
   "outputs": [],
   "source": [
    "#Rename MP data to geometry_mp\n",
    "tracts_ejsm_subset.columns = ['FIPS',\n",
    "'geometry_mp']\n",
    "tracts_ejsm_subset.head()"
   ]
  },
  {
   "cell_type": "code",
   "execution_count": null,
   "metadata": {},
   "outputs": [],
   "source": [
    "#check for values\n",
    "dftec.info()"
   ]
  },
  {
   "cell_type": "markdown",
   "metadata": {},
   "source": [
    "How tf am I supposed to use the MP data to fill in my maps"
   ]
  },
  {
   "cell_type": "code",
   "execution_count": null,
   "metadata": {},
   "outputs": [],
   "source": [
    "#merge the dfs\n",
    "dftec2=tracts_ejsm_subset.merge(dftec,on=\"FIPS\")"
   ]
  },
  {
   "cell_type": "code",
   "execution_count": null,
   "metadata": {},
   "outputs": [],
   "source": [
    "#dftec2 merge includes polygon data- cannot have 2 geometry columns\n",
    "dftec2.head()"
   ]
  },
  {
   "cell_type": "code",
   "execution_count": null,
   "metadata": {},
   "outputs": [],
   "source": [
    "dftec2['geometry_mp'].plot"
   ]
  },
  {
   "cell_type": "code",
   "execution_count": null,
   "metadata": {},
   "outputs": [],
   "source": [
    "dftec2.info()"
   ]
  },
  {
   "cell_type": "code",
   "execution_count": null,
   "metadata": {},
   "outputs": [],
   "source": [
    "#convert to crs\n",
    "dftec2.crs"
   ]
  },
  {
   "cell_type": "code",
   "execution_count": null,
   "metadata": {},
   "outputs": [],
   "source": [
    "dftec2.drop([\"\"])"
   ]
  },
  {
   "cell_type": "code",
   "execution_count": null,
   "metadata": {},
   "outputs": [],
   "source": [
    "dftec2.plot(figsize=(24,20),\n",
    "                 column='HazScore',\n",
    "                 legend=True, \n",
    "                 scheme='equal_interval')"
   ]
  },
  {
   "cell_type": "code",
   "execution_count": null,
   "metadata": {},
   "outputs": [],
   "source": [
    "#convert to gdf- normal \n",
    "dftec2.plot(figsize=(24,20),\n",
    "                 column='HazScore',\n",
    "                 legend=True, \n",
    "                 scheme='equal_interval')"
   ]
  },
  {
   "cell_type": "code",
   "execution_count": null,
   "metadata": {},
   "outputs": [],
   "source": [
    "#Does not fit \n",
    "base = tracts_ejsm.plot(figsize=(12,10),color='gainsboro', edgecolor='white')\n",
    "\n",
    "ax = dftec.plot(ax=base, color='purple', markersize=5)"
   ]
  },
  {
   "cell_type": "code",
   "execution_count": null,
   "metadata": {},
   "outputs": [],
   "source": [
    "#delimit points\n",
    "minx, miny, maxx, maxy = dftec2.geometry.total_bounds\n",
    "print(minx)\n",
    "print(maxx)\n",
    "print(miny)\n",
    "print(maxy)"
   ]
  },
  {
   "cell_type": "code",
   "execution_count": null,
   "metadata": {},
   "outputs": [],
   "source": [
    "#ax=dftec2.plot(figsize=(20,20), \n",
    "                      edgecolor='white',\n",
    "                      column='HazScore',\n",
    "                      alpha=0.5)\n",
    "\n",
    "#ax.axis('off')\n",
    "\n",
    "#ctx.add_basemap(ax,source=ctx.providers.CartoDB.Positron)"
   ]
  },
  {
   "cell_type": "code",
   "execution_count": null,
   "metadata": {},
   "outputs": [],
   "source": [
    "#basemap \n",
    "base = tracts_ejsm.plot(figsize=(12,12),color='gainsboro', edgecolor='white')\n",
    "ax = dftec2.plot(ax=base, marker='o', color='purple', markersize=5)\n",
    "ax.set_xlim(minx - .1, maxx + .1)\n",
    "ax.set_ylim(miny - .1, maxy + .1)\n",
    "ax"
   ]
  },
  {
   "cell_type": "markdown",
   "metadata": {},
   "source": [
    "# moving on"
   ]
  },
  {
   "cell_type": "markdown",
   "metadata": {},
   "source": [
    "THE RATIO PROBLEM SHOULD BE FIXED BY USING THE STEPS IN THE W06 MULTIPLE OVERLAYS COPY-FOLLOW STEPS NOTEBOOK \n",
    "I have't combined them yet\n",
    "cannot use two geometry columns in same set\n",
    "\n"
   ]
  },
  {
   "cell_type": "code",
   "execution_count": null,
   "metadata": {},
   "outputs": [],
   "source": [
    "#this is where we had trouble with the ratio\n",
    "#ratio is lacking the multiploygon framing for base map for chloropleth \n",
    "#could be a problem without the column names named\n",
    "#problem is that the haz score is not by 1000s \n",
    "#STEPS\n",
    "#define gdf\n",
    "#figure out pop and reduce it by FIPS\n",
    "\n",
    "#code\n",
    "\n",
    "#gdf['g'] = gdf['arrests_per_HazScore']/gdf['TotalPop']*10\n",
    "\n"
   ]
  }
 ],
 "metadata": {
  "kernelspec": {
   "display_name": "Python 3",
   "language": "python",
   "name": "python3"
  },
  "language_info": {
   "codemirror_mode": {
    "name": "ipython",
    "version": 3
   },
   "file_extension": ".py",
   "mimetype": "text/x-python",
   "name": "python",
   "nbconvert_exporter": "python",
   "pygments_lexer": "ipython3",
   "version": "3.8.5"
  },
  "toc": {
   "base_numbering": 1,
   "nav_menu": {},
   "number_sections": true,
   "sideBar": true,
   "skip_h1_title": false,
   "title_cell": "Table of Contents",
   "title_sidebar": "Contents",
   "toc_cell": false,
   "toc_position": {
    "height": "calc(100% - 180px)",
    "left": "10px",
    "top": "150px",
    "width": "165px"
   },
   "toc_section_display": true,
   "toc_window_display": false
  }
 },
 "nbformat": 4,
 "nbformat_minor": 4
}
