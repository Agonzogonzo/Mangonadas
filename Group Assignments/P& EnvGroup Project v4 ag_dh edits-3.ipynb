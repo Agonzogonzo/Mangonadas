{
 "cells": [
  {
   "cell_type": "code",
   "execution_count": null,
   "metadata": {},
   "outputs": [],
   "source": [
    "import geopandas as gpd\n",
    "import pandas as pd"
   ]
  },
  {
   "cell_type": "code",
   "execution_count": null,
   "metadata": {},
   "outputs": [],
   "source": [
    "#import LA environmental justice scores \n",
    "df = pd.read_csv(\n",
    "'Data/EJSM_Scores/EJSM_Scores (1).csv' ,\n",
    "dtype={\n",
    "    'Tract_1':str\n",
    "})"
   ]
  },
  {
   "cell_type": "code",
   "execution_count": null,
   "metadata": {},
   "outputs": [],
   "source": [
    "#add number zero leading the FIPS code for merging the data with the census tract data\n",
    "df['Tract_1'] = df['Tract_1'].str.zfill(11)\n",
    "df.head()"
   ]
  },
  {
   "cell_type": "code",
   "execution_count": null,
   "metadata": {},
   "outputs": [],
   "source": [
    "#import 2012 census data\n",
    "tracts=gpd.read_file('Data/CensusData2012/census-tracts-2012.geojson')\n",
    "print(tracts)"
   ]
  },
  {
   "cell_type": "code",
   "execution_count": null,
   "metadata": {},
   "outputs": [],
   "source": [
    "#list column names\n",
    "list(tracts)"
   ]
  },
  {
   "cell_type": "code",
   "execution_count": null,
   "metadata": {},
   "outputs": [],
   "source": [
    "#drop columns\n",
    "columns_to_drop = ['set','kind','resource_uri','metadata']"
   ]
  },
  {
   "cell_type": "code",
   "execution_count": null,
   "metadata": {},
   "outputs": [],
   "source": [
    "#read columns \n",
    "tracts.head()"
   ]
  },
  {
   "cell_type": "code",
   "execution_count": null,
   "metadata": {},
   "outputs": [],
   "source": [
    "#drop columns from tracts data\n",
    "tracts = tracts.drop(columns_to_drop,axis=1)"
   ]
  },
  {
   "cell_type": "code",
   "execution_count": null,
   "metadata": {
    "scrolled": true
   },
   "outputs": [],
   "source": [
    "tracts.info(verbose=True, null_counts=True)"
   ]
  },
  {
   "cell_type": "code",
   "execution_count": null,
   "metadata": {},
   "outputs": [],
   "source": [
    "#isolate the FIPS code and geometry column to match with the EJSM data\n",
    "tracts = tracts[['name','geometry']]\n",
    "tracts.head()"
   ]
  },
  {
   "cell_type": "code",
   "execution_count": null,
   "metadata": {},
   "outputs": [],
   "source": [
    "#show columns only FIPS and geometry columns \n",
    "tracts.columns = ['FIPS','geometry']\n",
    "tracts.head()"
   ]
  },
  {
   "cell_type": "code",
   "execution_count": null,
   "metadata": {},
   "outputs": [],
   "source": [
    "#list EJSM df with new FIPS code\n",
    "list(df)"
   ]
  },
  {
   "cell_type": "code",
   "execution_count": null,
   "metadata": {},
   "outputs": [],
   "source": [
    "#See dataframe columns\n",
    "df.info(verbose=True, null_counts=True)"
   ]
  },
  {
   "cell_type": "code",
   "execution_count": null,
   "metadata": {
    "scrolled": false
   },
   "outputs": [],
   "source": [
    "#rename object Tract_1 to FIPS to match census tract data\n",
    "df.columns = ['OBJECTID',\n",
    " 'FIPS',\n",
    " 'CIscore',\n",
    " 'HazScore',\n",
    " 'HealthScore',\n",
    " 'SVscore',\n",
    " 'CCVscore',\n",
    " 'Shape__Area',\n",
    " 'Shape__Length']\n",
    "df.head()"
   ]
  },
  {
   "cell_type": "code",
   "execution_count": null,
   "metadata": {},
   "outputs": [],
   "source": [
    "#merge data on the same object FIPS\n",
    "tracts_ejsm=tracts.merge(df,on=\"FIPS\")"
   ]
  },
  {
   "cell_type": "code",
   "execution_count": null,
   "metadata": {},
   "outputs": [],
   "source": [
    "#show merge with census data (only population)\n",
    "tracts_ejsm.head()"
   ]
  },
  {
   "cell_type": "code",
   "execution_count": null,
   "metadata": {},
   "outputs": [],
   "source": [
    "#describe stats by proximity to hazard score\n",
    "tracts_ejsm['HazScore'].describe()"
   ]
  },
  {
   "cell_type": "code",
   "execution_count": null,
   "metadata": {
    "scrolled": true
   },
   "outputs": [],
   "source": [
    "#equal intervalfor Social Vulnerability Score -by standard deviation \n",
    "tracts_ejsm.plot(figsize=(24,20),\n",
    "                 column='SVscore',\n",
    "                 legend=True, \n",
    "                 scheme='equal_interval')"
   ]
  },
  {
   "cell_type": "code",
   "execution_count": null,
   "metadata": {},
   "outputs": [],
   "source": [
    "import folium"
   ]
  },
  {
   "cell_type": "code",
   "execution_count": null,
   "metadata": {
    "scrolled": true
   },
   "outputs": [],
   "source": [
    "# Map for HazScore\n",
    "m = folium.Map(location=[34.2,-118.2], \n",
    "               zoom_start = 9,\n",
    "               tiles='CartoDB positron', \n",
    "               attribution='CartoDB')\n",
    "\n",
    "# plot chorpleth over the base map\n",
    "folium.Choropleth(\n",
    "                  geo_data=tracts_ejsm, # geo data\n",
    "                  data=tracts_ejsm, # data          \n",
    "                  key_on='feature.properties.FIPS', # key, or merge column\n",
    "                  columns=['FIPS', 'HazScore'], # [key, value]\n",
    "                  fill_color='BuPu',\n",
    "                  line_weight=0.1, \n",
    "                  fill_opacity=0.8,\n",
    "                  line_opacity=0.2, # line opacity (of the border)\n",
    "                  legend_name='Degree of proximity to Environmenta Hazards)').add_to(m)\n",
    "m"
   ]
  },
  {
   "cell_type": "code",
   "execution_count": null,
   "metadata": {},
   "outputs": [],
   "source": [
    "#begin work for midterm\n",
    "import plotly.express as px\n",
    "from sodapy import Socrata"
   ]
  },
  {
   "cell_type": "code",
   "execution_count": null,
   "metadata": {},
   "outputs": [],
   "source": [
    "#use API to import crime data\n",
    "client = Socrata(\"data.lacity.org\", None)\n",
    "results = client.get(\"amvf-fr72\", limit=10000)\n",
    "df =pd.DataFrame.from_records(results)"
   ]
  },
  {
   "cell_type": "code",
   "execution_count": null,
   "metadata": {},
   "outputs": [],
   "source": [
    "#sample crime data\n",
    "df.sample(5)"
   ]
  },
  {
   "cell_type": "code",
   "execution_count": null,
   "metadata": {},
   "outputs": [],
   "source": [
    "#get description of data and types\n",
    "df.grp_description.unique()"
   ]
  },
  {
   "cell_type": "code",
   "execution_count": null,
   "metadata": {
    "scrolled": true
   },
   "outputs": [],
   "source": [
    "#get arrest charge value counts\n",
    "arrest_by_charge = df.grp_description.value_counts().reset_index()\n",
    "arrest_by_charge"
   ]
  },
  {
   "cell_type": "code",
   "execution_count": null,
   "metadata": {},
   "outputs": [],
   "source": [
    "#plotly bar graph to examine the total arrests by LAPD in 2020\n",
    "px.bar(df,\n",
    "       x='arst_date',\n",
    "       title='LAPD Arrests in 2020',\n",
    "       labels={'arst_date':'Arrest date','counts':'Number of arrests'}\n",
    "      )"
   ]
  },
  {
   "cell_type": "code",
   "execution_count": null,
   "metadata": {},
   "outputs": [],
   "source": [
    "#configure geometry for crime dataframe \n",
    "crime = gpd.GeoDataFrame(df, geometry=gpd.points_from_xy(df.lon, df.lat))"
   ]
  },
  {
   "cell_type": "code",
   "execution_count": null,
   "metadata": {},
   "outputs": [],
   "source": [
    "#plot crime\n",
    "crime.plot(figsize=(12,12),color='purple')"
   ]
  },
  {
   "cell_type": "code",
   "execution_count": null,
   "metadata": {},
   "outputs": [],
   "source": [
    "#make base layer map ands overlay plot \n",
    "base = tracts_ejsm.plot(figsize=(12,10),color='gainsboro', edgecolor='white')\n",
    "\n",
    "ax = crime.plot(ax=base, color='purple', markersize=5)"
   ]
  },
  {
   "cell_type": "code",
   "execution_count": null,
   "metadata": {},
   "outputs": [],
   "source": [
    "#print total bounds of data points \n",
    "minx, miny, maxx, maxy = crime.geometry.total_bounds\n",
    "print(minx)\n",
    "print(maxx)\n",
    "print(miny)\n",
    "print(maxy)"
   ]
  },
  {
   "cell_type": "code",
   "execution_count": null,
   "metadata": {},
   "outputs": [],
   "source": [
    "#print map with within closer boundaries \n",
    "base = tracts_ejsm.plot(figsize=(12,12),color='gainsboro', edgecolor='white')\n",
    "ax = crime.plot(ax=base, marker='o', color='purple', markersize=5)\n",
    "ax.set_xlim(minx - .1, maxx + .1)\n",
    "ax.set_ylim(miny - .1, maxy + .1)\n",
    "ax"
   ]
  },
  {
   "cell_type": "code",
   "execution_count": null,
   "metadata": {},
   "outputs": [],
   "source": [
    "# configure coordinate reference system for crime -DONE\n",
    "crime.set_crs(epsg=4326, inplace=True)\n",
    "crime.crs"
   ]
  },
  {
   "cell_type": "code",
   "execution_count": null,
   "metadata": {},
   "outputs": [],
   "source": [
    "# configure coordinate reference system for tracts to join the two dataframes - DONE\n",
    "tracts.crs"
   ]
  },
  {
   "cell_type": "code",
   "execution_count": null,
   "metadata": {},
   "outputs": [],
   "source": [
    "#join tracts and crime data- DONE\n",
    "join = gpd.sjoin(tracts,\n",
    "                 crime,\n",
    "                 how='right')"
   ]
  },
  {
   "cell_type": "code",
   "execution_count": null,
   "metadata": {
    "scrolled": true
   },
   "outputs": [],
   "source": [
    "join.head()"
   ]
  },
  {
   "cell_type": "code",
   "execution_count": null,
   "metadata": {},
   "outputs": [],
   "source": [
    "#name crime by tracts -DONE\n",
    "crime_by_tracts = join.FIPS.value_counts().rename_axis('Tract').reset_index(name='crime_count')"
   ]
  },
  {
   "cell_type": "code",
   "execution_count": null,
   "metadata": {},
   "outputs": [],
   "source": [
    "#show crime by tracts -DONE\n",
    "crime_by_tracts.head()"
   ]
  },
  {
   "cell_type": "code",
   "execution_count": null,
   "metadata": {},
   "outputs": [],
   "source": [
    "#make bar graph showing crime concentrations in census tracts -DONE\n",
    "crime_by_tracts[:50].plot.bar(figsize=(20,8),x='Tract',y='crime_count')"
   ]
  },
  {
   "cell_type": "code",
   "execution_count": null,
   "metadata": {},
   "outputs": [],
   "source": [
    "#group data by the description of arrest -NECESSARY and not harmful for exploration\n",
    "join.groupby(['grp_description']).count()"
   ]
  },
  {
   "cell_type": "code",
   "execution_count": null,
   "metadata": {},
   "outputs": [],
   "source": [
    "#group the joined data- can we gather these factors by variable name? -DONE subset\n",
    "join_grouped=join.groupby(['FIPS','grp_description','lat','lon','arst_date']).count()[['rpt_id']]\n",
    "join_grouped.head(50)"
   ]
  },
  {
   "cell_type": "code",
   "execution_count": null,
   "metadata": {},
   "outputs": [],
   "source": [
    "#flatten data to prep for bar graph- DONE\n",
    "df_flat = join_grouped.reset_index()\n",
    "df_flat"
   ]
  },
  {
   "cell_type": "code",
   "execution_count": null,
   "metadata": {},
   "outputs": [],
   "source": [
    "#make plotly bar graph for preliminary investigations- look at class notebook\n",
    "px.bar(df_flat,\n",
    "       x='grp_description',\n",
    "       y='rpt_id',\n",
    "       title='Description of LAPD Arrests in 2020',\n",
    "       color='grp_description',\n",
    "       labels={'grp_description':'Arrest Decription','rpt_id':'Number of Arrests'}\n",
    "      )"
   ]
  },
  {
   "cell_type": "code",
   "execution_count": null,
   "metadata": {},
   "outputs": [],
   "source": [
    "px.bar(df_flat,\n",
    "       x='arst_date',\n",
    "       y='rpt_id',\n",
    "       title='LAPD Arrests in 2020',\n",
    "       color='grp_description',\n",
    "       labels={'arst_date':'Arrest Decription','rpt_id':'Number of Arrests'}\n",
    "      )"
   ]
  },
  {
   "cell_type": "code",
   "execution_count": null,
   "metadata": {},
   "outputs": [],
   "source": [
    "#merge the ejsm and crime data on FIPS\n",
    "df_ejsm_crime_tracts = tracts_ejsm.merge(df_flat,on=\"FIPS\").reset_index()"
   ]
  },
  {
   "cell_type": "code",
   "execution_count": null,
   "metadata": {},
   "outputs": [],
   "source": [
    "df_ejsm_crime_tracts.head"
   ]
  },
  {
   "cell_type": "code",
   "execution_count": null,
   "metadata": {},
   "outputs": [],
   "source": [
    "#susbset the data\n",
    "df_subset = df[['arst_date','rpt_id','grp_description','HazScore','FIPS','lat','lon']].copy()\n",
    "df_subset.head()"
   ]
  },
  {
   "cell_type": "code",
   "execution_count": null,
   "metadata": {},
   "outputs": [],
   "source": [
    "#convert lat and lon to floats intergrating arrest and EJSM score data\n",
    "df_ejsm_crime_tracts['lat'] = df_ejsm_crime_tracts['lat'].astype(float)\n",
    "df_ejsm_crime_tracts['lon'] = df_ejsm_crime_tracts['lon'].astype(float)\n",
    "df_ejsm_crime_tracts.info()"
   ]
  },
  {
   "cell_type": "code",
   "execution_count": null,
   "metadata": {},
   "outputs": [],
   "source": [
    "#basic scatter of df_ejsm_crime_tracts data with coordinate reference system\n",
    "px.scatter(df_ejsm_crime_tracts,\n",
    "           x='lon',\n",
    "           y='lat'\n",
    "          )"
   ]
  },
  {
   "cell_type": "code",
   "execution_count": null,
   "metadata": {},
   "outputs": [],
   "source": [
    "#configure crs\n",
    "df_ejsm_crime_tracts.crs"
   ]
  },
  {
   "cell_type": "code",
   "execution_count": null,
   "metadata": {
    "scrolled": true
   },
   "outputs": [],
   "source": [
    "#map using mapbox to show all 2020 crime data points with tracts\n",
    "fig = px.scatter_mapbox(df_ejsm_crime_tracts,\n",
    "                        lat='lat',\n",
    "                        lon='lon',\n",
    "                        mapbox_style=\"stamen-terrain\")\n",
    "fig.show()"
   ]
  },
  {
   "cell_type": "code",
   "execution_count": null,
   "metadata": {},
   "outputs": [],
   "source": [
    "#this doesnt work bc the gpd points are coming from df.lat and lon\n",
    "df_ejsm_crime_tracts= gpd.GeoDataFrame(df, \n",
    "                         crs='EPSG:4326',\n",
    "                         geometry=gpd.points_from_xy(df.lon, df.lat))\n",
    "df.info()"
   ]
  },
  {
   "cell_type": "code",
   "execution_count": null,
   "metadata": {
    "scrolled": true
   },
   "outputs": [],
   "source": [
    "#import kepler and make base\n",
    "from keplergl import KeplerGl"
   ]
  },
  {
   "cell_type": "code",
   "execution_count": null,
   "metadata": {},
   "outputs": [],
   "source": [
    "#folium requires a center point\n",
    "\n",
    "minx, miny, maxx, maxy = df_ejsm_crime_tracts.geometry.total_bounds\n",
    "print(minx)\n",
    "print(maxx)\n",
    "print(miny)\n",
    "print(maxy)\n",
    "center_lon = (maxx-minx)/2+minx\n",
    "center_lon\n",
    "center_lat = (maxy-miny)/2+miny\n",
    "center_lat"
   ]
  },
  {
   "cell_type": "code",
   "execution_count": null,
   "metadata": {
    "scrolled": true
   },
   "outputs": [],
   "source": [
    "map = KeplerGl(height=600,width=800)\n",
    "map"
   ]
  },
  {
   "cell_type": "code",
   "execution_count": null,
   "metadata": {},
   "outputs": [],
   "source": [
    "map.add_data(data=df_ejsm_crime_tracts,name='EJSM')"
   ]
  },
  {
   "cell_type": "code",
   "execution_count": null,
   "metadata": {},
   "outputs": [],
   "source": [
    "map.save_to_html(file_name='df_ejsm_crime_tracts1.html',read_only=True)"
   ]
  },
  {
   "cell_type": "code",
   "execution_count": null,
   "metadata": {},
   "outputs": [],
   "source": [
    "# m = folium.Map(location=[center_lat, center_lon],tiles='cartodbpositron',)\n",
    "# create an empty marker cluster layer\n",
    "marker_cluster = MarkerCluster(name='LAPD Arrests in September, 2020').add_to(m)\n",
    "\n",
    "# loop through the arrest data and add each row as a marker to the marker cluster\n",
    "for index, row in df_ejsm_crime_tracts.iterrows()\n",
    "\n",
    "    popup = '<strong>'+str(row.grp_description)+'</strong><hr>'+'Age: '+str(row.age)+'<br>Sex: '+str(row.sex_cd)+'<br>Race: '+str(row.descent_cd)\n",
    "    folium.Marker(\n",
    "        location=[row.lat,row.lon],\n",
    "        tooltip=row.grp_description,\n",
    "        popup= popup,\n",
    "        icon=folium.Icon(color='red')\n",
    "    ).add_to(marker_cluster)\n",
    "\n",
    "m"
   ]
  },
  {
   "cell_type": "code",
   "execution_count": null,
   "metadata": {},
   "outputs": [],
   "source": []
  },
  {
   "cell_type": "code",
   "execution_count": null,
   "metadata": {},
   "outputs": [],
   "source": []
  },
  {
   "cell_type": "code",
   "execution_count": null,
   "metadata": {
    "scrolled": true
   },
   "outputs": [],
   "source": []
  },
  {
   "cell_type": "code",
   "execution_count": null,
   "metadata": {},
   "outputs": [],
   "source": [
    "m = folium.Map(location=[34.2,-118.2], \n",
    "               zoom_start = 10,\n",
    "               tiles='CartoDB positron', \n",
    "               attribution='CartoDB')\n",
    "\n",
    "# plot chorpleth over the base map\n",
    "folium.Choropleth(\n",
    "                  geo_data=tracts_ejsm, # geo data\n",
    "                  data=df_ejsm_crime_tracts, # data          \n",
    "                  key_on='feature.properties.FIPS', # key, or merge column\n",
    "                  columns=['FIPS', 'HazScore'], # [key, value]\n",
    "                  fill_color='BuPu',\n",
    "                  line_weight=0.1, \n",
    "                  fill_opacity=0.8,\n",
    "                  line_opacity=0.2, # line opacity (of the border)\n",
    "                  legend_name='Degree of Proxoximity to Environmental Hazards)').add_to(m)    # name on the legend color bar\n",
    "m"
   ]
  },
  {
   "cell_type": "code",
   "execution_count": null,
   "metadata": {
    "scrolled": true
   },
   "outputs": [],
   "source": [
    "f2=folium.FeatureGroup(name='df_ejsm_crime_tracts').add_to(m)\n",
    "map"
   ]
  },
  {
   "cell_type": "code",
   "execution_count": null,
   "metadata": {},
   "outputs": [],
   "source": []
  },
  {
   "cell_type": "code",
   "execution_count": null,
   "metadata": {},
   "outputs": [],
   "source": [
    "data.info()"
   ]
  },
  {
   "cell_type": "code",
   "execution_count": null,
   "metadata": {},
   "outputs": [],
   "source": []
  }
 ],
 "metadata": {
  "kernelspec": {
   "display_name": "Python 3",
   "language": "python",
   "name": "python3"
  },
  "language_info": {
   "codemirror_mode": {
    "name": "ipython",
    "version": 3
   },
   "file_extension": ".py",
   "mimetype": "text/x-python",
   "name": "python",
   "nbconvert_exporter": "python",
   "pygments_lexer": "ipython3",
   "version": "3.8.5"
  },
  "toc": {
   "base_numbering": 1,
   "nav_menu": {},
   "number_sections": true,
   "sideBar": true,
   "skip_h1_title": false,
   "title_cell": "Table of Contents",
   "title_sidebar": "Contents",
   "toc_cell": false,
   "toc_position": {},
   "toc_section_display": true,
   "toc_window_display": false
  }
 },
 "nbformat": 4,
 "nbformat_minor": 4
}
